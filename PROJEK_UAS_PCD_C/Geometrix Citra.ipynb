{
 "cells": [
  {
   "cell_type": "code",
   "execution_count": 1,
   "id": "2b81d8bf",
   "metadata": {},
   "outputs": [
    {
     "data": {
      "text/plain": [
       "-1"
      ]
     },
     "execution_count": 1,
     "metadata": {},
     "output_type": "execute_result"
    }
   ],
   "source": [
    "import cv2\n",
    "import numpy as np\n",
    "\n",
    "# Membaca citra foto\n",
    "img = cv2.imread('fotodiri.jpg')\n",
    "\n",
    "# Menampilkan citra asli\n",
    "cv2.imshow('Citra Asli', img)\n",
    "cv2.waitKey(0)\n"
   ]
  },
  {
   "cell_type": "code",
   "execution_count": 2,
   "id": "f8b2b68c",
   "metadata": {},
   "outputs": [
    {
     "data": {
      "text/plain": [
       "-1"
      ]
     },
     "execution_count": 2,
     "metadata": {},
     "output_type": "execute_result"
    }
   ],
   "source": [
    "# Menentukan sudut rotasi\n",
    "sudut = 45\n",
    "\n",
    "# Memutar citra foto\n",
    "rotasi = cv2.rotate(img, cv2.ROTATE_180)\n",
    "\n",
    "# Menampilkan citra foto yang dirotasi\n",
    "cv2.imshow('Citra yang Dirotasi', rotasi)\n",
    "cv2.waitKey(0)"
   ]
  },
  {
   "cell_type": "code",
   "execution_count": 3,
   "id": "1799489d",
   "metadata": {},
   "outputs": [
    {
     "data": {
      "text/plain": [
       "-1"
      ]
     },
     "execution_count": 3,
     "metadata": {},
     "output_type": "execute_result"
    }
   ],
   "source": [
    "# Menentukan ukuran baru\n",
    "lebar_baru = 500\n",
    "tinggi_baru = 300\n",
    "\n",
    "# Mengubah ukuran citra foto\n",
    "ukuran_ulang = cv2.resize(img, (lebar_baru, tinggi_baru))\n",
    "\n",
    "# Menampilkan citra foto yang diubah ukurannya\n",
    "cv2.imshow('Citra dengan Ukuran Baru', ukuran_ulang)\n",
    "cv2.waitKey(0)"
   ]
  },
  {
   "cell_type": "code",
   "execution_count": 4,
   "id": "810ff383",
   "metadata": {},
   "outputs": [
    {
     "data": {
      "text/plain": [
       "-1"
      ]
     },
     "execution_count": 4,
     "metadata": {},
     "output_type": "execute_result"
    }
   ],
   "source": [
    "# Membalik citra foto secara horizontal\n",
    "horizontal = cv2.flip(img, 1)\n",
    "\n",
    "# Membalik citra foto secara vertikal\n",
    "vertikal = cv2.flip(img, 0)\n",
    "\n",
    "# Menampilkan citra foto yang dibalik secara horizontal\n",
    "cv2.imshow('Citra yang Dibalik Horizontal', horizontal)\n",
    "cv2.waitKey(0)\n",
    "\n",
    "# Menampilkan citra foto yang dibalik secara vertikal\n",
    "cv2.imshow('Citra yang Dibalik Vertikal', vertikal)\n",
    "cv2.waitKey(0)"
   ]
  },
  {
   "cell_type": "code",
   "execution_count": 5,
   "id": "18020477",
   "metadata": {},
   "outputs": [
    {
     "data": {
      "text/plain": [
       "0"
      ]
     },
     "execution_count": 5,
     "metadata": {},
     "output_type": "execute_result"
    }
   ],
   "source": [
    "# Menentukan koordinat translasi\n",
    "tx = 50\n",
    "ty = 30\n",
    "\n",
    "# Menginisialisasi matriks identitas\n",
    "matriks_identitas = np.eye(3, dtype=np.float32)\n",
    "\n",
    "# Mengubah matriks identitas dengan koordinat translasi\n",
    "matriks_translasi = np.array([[1, 0, tx], [0, 1, ty], [0, 0, 1]], dtype=np.float32)\n",
    "\n",
    "# Menghitung matriks transformasi\n",
    "matriks_transformasi = np.dot(matriks_identitas, matriks_translasi)\n",
    "\n",
    "# Menstranslasi foto dengan mengubah koordinat piksel\n",
    "tinggi, lebar = img.shape[:2]\n",
    "for y in range(tinggi):\n",
    "    for x in range(lebar):\n",
    "        piksel_baru = np.dot(matriks_transformasi, np.array([x, y, 1]))[:2]\n",
    "        x_baru, y_baru = int(piksel_baru[0]), int(piksel_baru[1])\n",
    "        if 0 <= x_baru < lebar and 0 <= y_baru < tinggi:\n",
    "            img[y_baru, x_baru] = img[y, x]\n",
    "\n",
    "# Menampilkan foto yang ditranslasi\n",
    "cv2.imshow('Citra yang Ditranslasi', img)\n",
    "cv2.waitKey(0)"
   ]
  },
  {
   "cell_type": "code",
   "execution_count": null,
   "id": "6c92002d",
   "metadata": {},
   "outputs": [],
   "source": []
  }
 ],
 "metadata": {
  "kernelspec": {
   "display_name": "Python 3 (ipykernel)",
   "language": "python",
   "name": "python3"
  },
  "language_info": {
   "codemirror_mode": {
    "name": "ipython",
    "version": 3
   },
   "file_extension": ".py",
   "mimetype": "text/x-python",
   "name": "python",
   "nbconvert_exporter": "python",
   "pygments_lexer": "ipython3",
   "version": "3.11.4"
  }
 },
 "nbformat": 4,
 "nbformat_minor": 5
}
